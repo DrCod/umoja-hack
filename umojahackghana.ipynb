{
  "nbformat": 4,
  "nbformat_minor": 0,
  "metadata": {
    "colab": {
      "name": "umojahackghana_drcod_uds.ipynb",
      "provenance": [],
      "collapsed_sections": []
    },
    "kernelspec": {
      "name": "python3",
      "display_name": "Python 3"
    },
    "accelerator": "GPU"
  },
  "cells": [
    {
      "cell_type": "code",
      "metadata": {
        "id": "Y52hv6JQwwZH",
        "colab_type": "code",
        "colab": {
          "base_uri": "https://localhost:8080/",
          "height": 71
        },
        "outputId": "6a5971ca-d2b7-414d-ba32-68daba2b9505"
      },
      "source": [
        "#Importing libraries\n",
        "import numpy as np # linear algebra\n",
        "import pandas as pd # data processing, CSV file I/O (e.g. pd.read_csv)\n",
        "# Input data files are available in the \"../input/\" directory.\n",
        "import os\n",
        "import matplotlib.pyplot as plt#visualization\n",
        "%matplotlib inline\n",
        "import pandas as pd\n",
        "import seaborn as sns#visualization\n",
        "import itertools\n",
        "import warnings\n",
        "warnings.filterwarnings(\"ignore\")\n",
        "import io\n",
        "import plotly.offline as py#visualization\n",
        "py.init_notebook_mode(connected=True)#visualization\n",
        "import plotly.graph_objs as go#visualization\n",
        "import plotly.tools as tls#visualization\n",
        "import plotly.figure_factory as ff#visualization"
      ],
      "execution_count": null,
      "outputs": [
        {
          "output_type": "stream",
          "text": [
            "/usr/local/lib/python3.6/dist-packages/statsmodels/tools/_testing.py:19: FutureWarning: pandas.util.testing is deprecated. Use the functions in the public API at pandas.testing instead.\n",
            "  import pandas.util.testing as tm\n"
          ],
          "name": "stderr"
        },
        {
          "output_type": "display_data",
          "data": {
            "text/html": [
              "        <script type=\"text/javascript\">\n",
              "        window.PlotlyConfig = {MathJaxConfig: 'local'};\n",
              "        if (window.MathJax) {MathJax.Hub.Config({SVG: {font: \"STIX-Web\"}});}\n",
              "        if (typeof require !== 'undefined') {\n",
              "        require.undef(\"plotly\");\n",
              "        requirejs.config({\n",
              "            paths: {\n",
              "                'plotly': ['https://cdn.plot.ly/plotly-latest.min']\n",
              "            }\n",
              "        });\n",
              "        require(['plotly'], function(Plotly) {\n",
              "            window._Plotly = Plotly;\n",
              "        });\n",
              "        }\n",
              "        </script>\n",
              "        "
            ]
          },
          "metadata": {
            "tags": []
          }
        }
      ]
    },
    {
      "cell_type": "code",
      "metadata": {
        "id": "jB1oK-RJxjcS",
        "colab_type": "code",
        "colab": {}
      },
      "source": [
        "train = pd.read_csv(\"./Train.csv\")\n",
        "test = pd.read_csv(\"./Test.csv\")\n",
        "submission = pd.read_csv('./SampleSubmission.csv')"
      ],
      "execution_count": null,
      "outputs": []
    },
    {
      "cell_type": "code",
      "metadata": {
        "id": "XowyvCes5OPA",
        "colab_type": "code",
        "colab": {
          "base_uri": "https://localhost:8080/",
          "height": 530
        },
        "outputId": "83aef578-3214-4fb1-ab5a-968078463a9e"
      },
      "source": [
        "print (\"Rows     : \" ,train.shape[0])\n",
        "print (\"Columns  : \" ,train.shape[1])\n",
        "print (\"\\nFeatures : \\n\" ,train.columns.tolist())\n",
        "print (\"\\nMissing values :  \", train.isnull().sum().values.sum())\n",
        "print (\"\\nUnique values :  \\n\",train.nunique())"
      ],
      "execution_count": null,
      "outputs": [
        {
          "output_type": "stream",
          "text": [
            "Rows     :  2154048\n",
            "Columns  :  19\n",
            "\n",
            "Features : \n",
            " ['user_id', 'REGION', 'TENURE', 'MONTANT', 'FREQUENCE_RECH', 'REVENUE', 'ARPU_SEGMENT', 'FREQUENCE', 'DATA_VOLUME', 'ON_NET', 'ORANGE', 'TIGO', 'ZONE1', 'ZONE2', 'MRG', 'REGULARITY', 'TOP_PACK', 'FREQ_TOP_PACK', 'CHURN']\n",
            "\n",
            "Missing values :   14380032\n",
            "\n",
            "Unique values :  \n",
            " user_id           2154048\n",
            "REGION                 14\n",
            "TENURE                  8\n",
            "MONTANT              6540\n",
            "FREQUENCE_RECH        123\n",
            "REVENUE             38114\n",
            "ARPU_SEGMENT        16535\n",
            "FREQUENCE              91\n",
            "DATA_VOLUME         41550\n",
            "ON_NET               9884\n",
            "ORANGE               3167\n",
            "TIGO                 1315\n",
            "ZONE1                 612\n",
            "ZONE2                 486\n",
            "MRG                     1\n",
            "REGULARITY             62\n",
            "TOP_PACK              140\n",
            "FREQ_TOP_PACK         245\n",
            "CHURN                   2\n",
            "dtype: int64\n"
          ],
          "name": "stdout"
        }
      ]
    },
    {
      "cell_type": "code",
      "metadata": {
        "id": "2Ar9O1c15TAv",
        "colab_type": "code",
        "colab": {
          "base_uri": "https://localhost:8080/",
          "height": 309
        },
        "outputId": "f657dc11-8dab-4079-97b5-3e084e09bb39"
      },
      "source": [
        "train.sample(5)"
      ],
      "execution_count": null,
      "outputs": [
        {
          "output_type": "execute_result",
          "data": {
            "text/html": [
              "<div>\n",
              "<style scoped>\n",
              "    .dataframe tbody tr th:only-of-type {\n",
              "        vertical-align: middle;\n",
              "    }\n",
              "\n",
              "    .dataframe tbody tr th {\n",
              "        vertical-align: top;\n",
              "    }\n",
              "\n",
              "    .dataframe thead th {\n",
              "        text-align: right;\n",
              "    }\n",
              "</style>\n",
              "<table border=\"1\" class=\"dataframe\">\n",
              "  <thead>\n",
              "    <tr style=\"text-align: right;\">\n",
              "      <th></th>\n",
              "      <th>user_id</th>\n",
              "      <th>REGION</th>\n",
              "      <th>TENURE</th>\n",
              "      <th>MONTANT</th>\n",
              "      <th>FREQUENCE_RECH</th>\n",
              "      <th>REVENUE</th>\n",
              "      <th>ARPU_SEGMENT</th>\n",
              "      <th>FREQUENCE</th>\n",
              "      <th>DATA_VOLUME</th>\n",
              "      <th>ON_NET</th>\n",
              "      <th>ORANGE</th>\n",
              "      <th>TIGO</th>\n",
              "      <th>ZONE1</th>\n",
              "      <th>ZONE2</th>\n",
              "      <th>MRG</th>\n",
              "      <th>REGULARITY</th>\n",
              "      <th>TOP_PACK</th>\n",
              "      <th>FREQ_TOP_PACK</th>\n",
              "      <th>CHURN</th>\n",
              "    </tr>\n",
              "  </thead>\n",
              "  <tbody>\n",
              "    <tr>\n",
              "      <th>1451133</th>\n",
              "      <td>ac7f859667f6ba5f67348cfa04b81d93e5277db2</td>\n",
              "      <td>NaN</td>\n",
              "      <td>K &gt; 24 month</td>\n",
              "      <td>100.0</td>\n",
              "      <td>1.0</td>\n",
              "      <td>NaN</td>\n",
              "      <td>NaN</td>\n",
              "      <td>NaN</td>\n",
              "      <td>NaN</td>\n",
              "      <td>NaN</td>\n",
              "      <td>NaN</td>\n",
              "      <td>NaN</td>\n",
              "      <td>NaN</td>\n",
              "      <td>NaN</td>\n",
              "      <td>NO</td>\n",
              "      <td>1</td>\n",
              "      <td>NaN</td>\n",
              "      <td>NaN</td>\n",
              "      <td>0</td>\n",
              "    </tr>\n",
              "    <tr>\n",
              "      <th>1164817</th>\n",
              "      <td>8a8f58ccc57fcffc63ff76da46115508500e4517</td>\n",
              "      <td>LOUGA</td>\n",
              "      <td>K &gt; 24 month</td>\n",
              "      <td>3000.0</td>\n",
              "      <td>6.0</td>\n",
              "      <td>3000.0</td>\n",
              "      <td>1000.0</td>\n",
              "      <td>7.0</td>\n",
              "      <td>NaN</td>\n",
              "      <td>2.0</td>\n",
              "      <td>29.0</td>\n",
              "      <td>26.0</td>\n",
              "      <td>NaN</td>\n",
              "      <td>NaN</td>\n",
              "      <td>NO</td>\n",
              "      <td>18</td>\n",
              "      <td>All-net 500F=2000F;5d</td>\n",
              "      <td>5.0</td>\n",
              "      <td>0</td>\n",
              "    </tr>\n",
              "    <tr>\n",
              "      <th>931686</th>\n",
              "      <td>6ed3ff0796342d578d9a1cff28defe475c5658ab</td>\n",
              "      <td>DIOURBEL</td>\n",
              "      <td>K &gt; 24 month</td>\n",
              "      <td>7500.0</td>\n",
              "      <td>9.0</td>\n",
              "      <td>7078.0</td>\n",
              "      <td>2359.0</td>\n",
              "      <td>8.0</td>\n",
              "      <td>3386.0</td>\n",
              "      <td>20.0</td>\n",
              "      <td>94.0</td>\n",
              "      <td>6.0</td>\n",
              "      <td>NaN</td>\n",
              "      <td>NaN</td>\n",
              "      <td>NO</td>\n",
              "      <td>10</td>\n",
              "      <td>All-net 500F=2000F;5d</td>\n",
              "      <td>7.0</td>\n",
              "      <td>0</td>\n",
              "    </tr>\n",
              "    <tr>\n",
              "      <th>870292</th>\n",
              "      <td>678215d033254ba2353714985590d263ca15e09e</td>\n",
              "      <td>THIES</td>\n",
              "      <td>K &gt; 24 month</td>\n",
              "      <td>NaN</td>\n",
              "      <td>NaN</td>\n",
              "      <td>NaN</td>\n",
              "      <td>NaN</td>\n",
              "      <td>NaN</td>\n",
              "      <td>NaN</td>\n",
              "      <td>NaN</td>\n",
              "      <td>NaN</td>\n",
              "      <td>NaN</td>\n",
              "      <td>NaN</td>\n",
              "      <td>NaN</td>\n",
              "      <td>NO</td>\n",
              "      <td>56</td>\n",
              "      <td>NaN</td>\n",
              "      <td>NaN</td>\n",
              "      <td>0</td>\n",
              "    </tr>\n",
              "    <tr>\n",
              "      <th>499691</th>\n",
              "      <td>3b6817a6f1f0c54efad2ca3da8802e0f4db575ce</td>\n",
              "      <td>NaN</td>\n",
              "      <td>K &gt; 24 month</td>\n",
              "      <td>NaN</td>\n",
              "      <td>NaN</td>\n",
              "      <td>NaN</td>\n",
              "      <td>NaN</td>\n",
              "      <td>NaN</td>\n",
              "      <td>655.0</td>\n",
              "      <td>NaN</td>\n",
              "      <td>NaN</td>\n",
              "      <td>NaN</td>\n",
              "      <td>NaN</td>\n",
              "      <td>NaN</td>\n",
              "      <td>NO</td>\n",
              "      <td>17</td>\n",
              "      <td>NaN</td>\n",
              "      <td>NaN</td>\n",
              "      <td>0</td>\n",
              "    </tr>\n",
              "  </tbody>\n",
              "</table>\n",
              "</div>"
            ],
            "text/plain": [
              "                                          user_id  ... CHURN\n",
              "1451133  ac7f859667f6ba5f67348cfa04b81d93e5277db2  ...     0\n",
              "1164817  8a8f58ccc57fcffc63ff76da46115508500e4517  ...     0\n",
              "931686   6ed3ff0796342d578d9a1cff28defe475c5658ab  ...     0\n",
              "870292   678215d033254ba2353714985590d263ca15e09e  ...     0\n",
              "499691   3b6817a6f1f0c54efad2ca3da8802e0f4db575ce  ...     0\n",
              "\n",
              "[5 rows x 19 columns]"
            ]
          },
          "metadata": {
            "tags": []
          },
          "execution_count": 4
        }
      ]
    },
    {
      "cell_type": "code",
      "metadata": {
        "id": "BOq4ERn15bfS",
        "colab_type": "code",
        "colab": {
          "base_uri": "https://localhost:8080/",
          "height": 674
        },
        "outputId": "7662436b-371c-418b-d215-21db2a581c8c"
      },
      "source": [
        "print(train['REGION'].value_counts())\n",
        "plt.figure(figsize=(10,5))\n",
        "train['REGION'].value_counts(normalize=True).plot(kind='bar')\n",
        "plt.ylabel('counts')\n",
        "plt.xlabel('REGION')"
      ],
      "execution_count": null,
      "outputs": [
        {
          "output_type": "stream",
          "text": [
            "DAKAR          513271\n",
            "THIES          180052\n",
            "SAINT-LOUIS    119886\n",
            "LOUGA           99053\n",
            "KAOLACK         96986\n",
            "DIOURBEL        66911\n",
            "TAMBACOUNDA     55074\n",
            "KAFFRINE        43963\n",
            "KOLDA           38743\n",
            "FATICK          35643\n",
            "MATAM           29083\n",
            "ZIGUINCHOR      21945\n",
            "SEDHIOU          3119\n",
            "KEDOUGOU         1020\n",
            "Name: REGION, dtype: int64\n"
          ],
          "name": "stdout"
        },
        {
          "output_type": "execute_result",
          "data": {
            "text/plain": [
              "Text(0.5, 0, 'REGION')"
            ]
          },
          "metadata": {
            "tags": []
          },
          "execution_count": 5
        },
        {
          "output_type": "display_data",
          "data": {
            "image/png": "[encoded data removed]",
            "text/plain": [
              "<Figure size 720x360 with 1 Axes>"
            ]
          },
          "metadata": {
            "tags": [],
            "needs_background": "light"
          }
        }
      ]
    },
    {
      "cell_type": "code",
      "metadata": {
        "id": "vUn_FMe45s7b",
        "colab_type": "code",
        "colab": {
          "base_uri": "https://localhost:8080/",
          "height": 569
        },
        "outputId": "e92d5e99-a754-4d5c-db2f-6ed99b33a39f"
      },
      "source": [
        "print(train['TENURE'].value_counts())\n",
        "plt.figure(figsize=(10,5))\n",
        "train['TENURE'].value_counts(normalize=True).plot(kind='bar')\n",
        "plt.ylabel('counts')\n",
        "plt.xlabel('TENURE')"
      ],
      "execution_count": null,
      "outputs": [
        {
          "output_type": "stream",
          "text": [
            "K > 24 month     2043201\n",
            "I 18-21 month      45278\n",
            "H 15-18 month      26006\n",
            "G 12-15 month      14901\n",
            "J 21-24 month      12725\n",
            "F 9-12 month        9328\n",
            "E 6-9 month         1839\n",
            "D 3-6 month          770\n",
            "Name: TENURE, dtype: int64\n"
          ],
          "name": "stdout"
        },
        {
          "output_type": "execute_result",
          "data": {
            "text/plain": [
              "Text(0.5, 0, 'TENURE')"
            ]
          },
          "metadata": {
            "tags": []
          },
          "execution_count": 6
        },
        {
          "output_type": "display_data",
          "data": {
            "image/png": "[encoded data removed]",
            "text/plain": [
              "<Figure size 720x360 with 1 Axes>"
            ]
          },
          "metadata": {
            "tags": [],
            "needs_background": "light"
          }
        }
      ]
    },
    {
      "cell_type": "code",
      "metadata": {
        "id": "K56t2Qd35xhr",
        "colab_type": "code",
        "colab": {
          "base_uri": "https://localhost:8080/",
          "height": 390
        },
        "outputId": "7e9abe35-a60e-4310-f539-741d8baf4594"
      },
      "source": [
        "print(train['MRG'].value_counts())\n",
        "plt.figure(figsize=(10,5))\n",
        "train['MRG'].value_counts(normalize=True).plot(kind='bar')\n",
        "plt.ylabel('counts')\n",
        "plt.xlabel('MRG')"
      ],
      "execution_count": null,
      "outputs": [
        {
          "output_type": "stream",
          "text": [
            "NO    2154048\n",
            "Name: MRG, dtype: int64\n"
          ],
          "name": "stdout"
        },
        {
          "output_type": "execute_result",
          "data": {
            "text/plain": [
              "Text(0.5, 0, 'MRG')"
            ]
          },
          "metadata": {
            "tags": []
          },
          "execution_count": 7
        },
        {
          "output_type": "display_data",
          "data": {
            "image/png": "[encoded data removed]",
            "text/plain": [
              "<Figure size 720x360 with 1 Axes>"
            ]
          },
          "metadata": {
            "tags": [],
            "needs_background": "light"
          }
        }
      ]
    },
    {
      "cell_type": "code",
      "metadata": {
        "id": "Iv7tV91F51dj",
        "colab_type": "code",
        "colab": {
          "base_uri": "https://localhost:8080/",
          "height": 390
        },
        "outputId": "ff8f1b15-cefc-4feb-8286-5191c9276b76"
      },
      "source": [
        "print(train['MRG'].value_counts())\n",
        "plt.figure(figsize=(10,5))\n",
        "train['MRG'].value_counts(normalize=True).plot(kind='bar')\n",
        "plt.ylabel('counts')\n",
        "plt.xlabel('MRG')"
      ],
      "execution_count": null,
      "outputs": [
        {
          "output_type": "stream",
          "text": [
            "NO    2154048\n",
            "Name: MRG, dtype: int64\n"
          ],
          "name": "stdout"
        },
        {
          "output_type": "execute_result",
          "data": {
            "text/plain": [
              "Text(0.5, 0, 'MRG')"
            ]
          },
          "metadata": {
            "tags": []
          },
          "execution_count": 8
        },
        {
          "output_type": "display_data",
          "data": {
            "image/png": "[encoded data removed]",
            "text/plain": [
              "<Figure size 720x360 with 1 Axes>"
            ]
          },
          "metadata": {
            "tags": [],
            "needs_background": "light"
          }
        }
      ]
    },
    {
      "cell_type": "code",
      "metadata": {
        "id": "AJvSctcb56xy",
        "colab_type": "code",
        "colab": {
          "base_uri": "https://localhost:8080/",
          "height": 398
        },
        "outputId": "ec35e40b-98da-4edf-f6ea-a4344a22cb61"
      },
      "source": [
        "#Check if the predictor class is balanced \n",
        "print(train['CHURN'].value_counts())\n",
        "plt.figure(figsize=(10,5))\n",
        "train['CHURN'].value_counts(normalize=True).plot(kind='bar')\n",
        "plt.ylabel('counts')\n",
        "plt.xlabel('Churn')"
      ],
      "execution_count": null,
      "outputs": [
        {
          "output_type": "stream",
          "text": [
            "0    1750062\n",
            "1     403986\n",
            "Name: CHURN, dtype: int64\n"
          ],
          "name": "stdout"
        },
        {
          "output_type": "execute_result",
          "data": {
            "text/plain": [
              "Text(0.5, 0, 'Churn')"
            ]
          },
          "metadata": {
            "tags": []
          },
          "execution_count": 9
        },
        {
          "output_type": "display_data",
          "data": {
            "image/png": "[encoded data removed]",
            "text/plain": [
              "<Figure size 720x360 with 1 Axes>"
            ]
          },
          "metadata": {
            "tags": [],
            "needs_background": "light"
          }
        }
      ]
    },
    {
      "cell_type": "code",
      "metadata": {
        "id": "g48lmOtA5_Kc",
        "colab_type": "code",
        "colab": {
          "base_uri": "https://localhost:8080/",
          "height": 483
        },
        "outputId": "4c7cf9c6-eb55-4e1e-8c5d-1b3af4cae846"
      },
      "source": [
        "#Check summary of numerical fields\n",
        "train.select_dtypes(include=['int64', 'float64']).describe().T"
      ],
      "execution_count": null,
      "outputs": [
        {
          "output_type": "execute_result",
          "data": {
            "text/html": [
              "<div>\n",
              "<style scoped>\n",
              "    .dataframe tbody tr th:only-of-type {\n",
              "        vertical-align: middle;\n",
              "    }\n",
              "\n",
              "    .dataframe tbody tr th {\n",
              "        vertical-align: top;\n",
              "    }\n",
              "\n",
              "    .dataframe thead th {\n",
              "        text-align: right;\n",
              "    }\n",
              "</style>\n",
              "<table border=\"1\" class=\"dataframe\">\n",
              "  <thead>\n",
              "    <tr style=\"text-align: right;\">\n",
              "      <th></th>\n",
              "      <th>count</th>\n",
              "      <th>mean</th>\n",
              "      <th>std</th>\n",
              "      <th>min</th>\n",
              "      <th>25%</th>\n",
              "      <th>50%</th>\n",
              "      <th>75%</th>\n",
              "      <th>max</th>\n",
              "    </tr>\n",
              "  </thead>\n",
              "  <tbody>\n",
              "    <tr>\n",
              "      <th>MONTANT</th>\n",
              "      <td>1397309.0</td>\n",
              "      <td>5532.116998</td>\n",
              "      <td>7111.339421</td>\n",
              "      <td>10.0</td>\n",
              "      <td>1000.0</td>\n",
              "      <td>3000.0</td>\n",
              "      <td>7350.0</td>\n",
              "      <td>470000.0</td>\n",
              "    </tr>\n",
              "    <tr>\n",
              "      <th>FREQUENCE_RECH</th>\n",
              "      <td>1397309.0</td>\n",
              "      <td>11.529120</td>\n",
              "      <td>13.274070</td>\n",
              "      <td>1.0</td>\n",
              "      <td>2.0</td>\n",
              "      <td>7.0</td>\n",
              "      <td>16.0</td>\n",
              "      <td>133.0</td>\n",
              "    </tr>\n",
              "    <tr>\n",
              "      <th>REVENUE</th>\n",
              "      <td>1428000.0</td>\n",
              "      <td>5510.810334</td>\n",
              "      <td>7187.112880</td>\n",
              "      <td>1.0</td>\n",
              "      <td>1000.0</td>\n",
              "      <td>3000.0</td>\n",
              "      <td>7368.0</td>\n",
              "      <td>532177.0</td>\n",
              "    </tr>\n",
              "    <tr>\n",
              "      <th>ARPU_SEGMENT</th>\n",
              "      <td>1428000.0</td>\n",
              "      <td>1836.942894</td>\n",
              "      <td>2395.699954</td>\n",
              "      <td>0.0</td>\n",
              "      <td>333.0</td>\n",
              "      <td>1000.0</td>\n",
              "      <td>2456.0</td>\n",
              "      <td>177392.0</td>\n",
              "    </tr>\n",
              "    <tr>\n",
              "      <th>FREQUENCE</th>\n",
              "      <td>1428000.0</td>\n",
              "      <td>13.978141</td>\n",
              "      <td>14.694035</td>\n",
              "      <td>1.0</td>\n",
              "      <td>3.0</td>\n",
              "      <td>9.0</td>\n",
              "      <td>20.0</td>\n",
              "      <td>91.0</td>\n",
              "    </tr>\n",
              "    <tr>\n",
              "      <th>DATA_VOLUME</th>\n",
              "      <td>1093615.0</td>\n",
              "      <td>3366.450167</td>\n",
              "      <td>13304.463667</td>\n",
              "      <td>0.0</td>\n",
              "      <td>0.0</td>\n",
              "      <td>257.0</td>\n",
              "      <td>2895.0</td>\n",
              "      <td>1823866.0</td>\n",
              "    </tr>\n",
              "    <tr>\n",
              "      <th>ON_NET</th>\n",
              "      <td>1367373.0</td>\n",
              "      <td>277.689140</td>\n",
              "      <td>872.688909</td>\n",
              "      <td>0.0</td>\n",
              "      <td>5.0</td>\n",
              "      <td>27.0</td>\n",
              "      <td>156.0</td>\n",
              "      <td>50809.0</td>\n",
              "    </tr>\n",
              "    <tr>\n",
              "      <th>ORANGE</th>\n",
              "      <td>1258800.0</td>\n",
              "      <td>95.418711</td>\n",
              "      <td>204.987266</td>\n",
              "      <td>0.0</td>\n",
              "      <td>7.0</td>\n",
              "      <td>29.0</td>\n",
              "      <td>99.0</td>\n",
              "      <td>21323.0</td>\n",
              "    </tr>\n",
              "    <tr>\n",
              "      <th>TIGO</th>\n",
              "      <td>864032.0</td>\n",
              "      <td>23.109253</td>\n",
              "      <td>63.578086</td>\n",
              "      <td>0.0</td>\n",
              "      <td>2.0</td>\n",
              "      <td>6.0</td>\n",
              "      <td>20.0</td>\n",
              "      <td>4174.0</td>\n",
              "    </tr>\n",
              "    <tr>\n",
              "      <th>ZONE1</th>\n",
              "      <td>169721.0</td>\n",
              "      <td>8.170132</td>\n",
              "      <td>41.169511</td>\n",
              "      <td>0.0</td>\n",
              "      <td>0.0</td>\n",
              "      <td>1.0</td>\n",
              "      <td>3.0</td>\n",
              "      <td>4792.0</td>\n",
              "    </tr>\n",
              "    <tr>\n",
              "      <th>ZONE2</th>\n",
              "      <td>136824.0</td>\n",
              "      <td>7.553309</td>\n",
              "      <td>33.487234</td>\n",
              "      <td>0.0</td>\n",
              "      <td>0.0</td>\n",
              "      <td>2.0</td>\n",
              "      <td>5.0</td>\n",
              "      <td>3697.0</td>\n",
              "    </tr>\n",
              "    <tr>\n",
              "      <th>REGULARITY</th>\n",
              "      <td>2154048.0</td>\n",
              "      <td>28.042505</td>\n",
              "      <td>22.286857</td>\n",
              "      <td>1.0</td>\n",
              "      <td>6.0</td>\n",
              "      <td>24.0</td>\n",
              "      <td>51.0</td>\n",
              "      <td>62.0</td>\n",
              "    </tr>\n",
              "    <tr>\n",
              "      <th>FREQ_TOP_PACK</th>\n",
              "      <td>1251454.0</td>\n",
              "      <td>9.272461</td>\n",
              "      <td>12.280443</td>\n",
              "      <td>1.0</td>\n",
              "      <td>2.0</td>\n",
              "      <td>5.0</td>\n",
              "      <td>12.0</td>\n",
              "      <td>713.0</td>\n",
              "    </tr>\n",
              "    <tr>\n",
              "      <th>CHURN</th>\n",
              "      <td>2154048.0</td>\n",
              "      <td>0.187547</td>\n",
              "      <td>0.390350</td>\n",
              "      <td>0.0</td>\n",
              "      <td>0.0</td>\n",
              "      <td>0.0</td>\n",
              "      <td>0.0</td>\n",
              "      <td>1.0</td>\n",
              "    </tr>\n",
              "  </tbody>\n",
              "</table>\n",
              "</div>"
            ],
            "text/plain": [
              "                    count         mean           std  ...     50%     75%        max\n",
              "MONTANT         1397309.0  5532.116998   7111.339421  ...  3000.0  7350.0   470000.0\n",
              "FREQUENCE_RECH  1397309.0    11.529120     13.274070  ...     7.0    16.0      133.0\n",
              "REVENUE         1428000.0  5510.810334   7187.112880  ...  3000.0  7368.0   532177.0\n",
              "ARPU_SEGMENT    1428000.0  1836.942894   2395.699954  ...  1000.0  2456.0   177392.0\n",
              "FREQUENCE       1428000.0    13.978141     14.694035  ...     9.0    20.0       91.0\n",
              "DATA_VOLUME     1093615.0  3366.450167  13304.463667  ...   257.0  2895.0  1823866.0\n",
              "ON_NET          1367373.0   277.689140    872.688909  ...    27.0   156.0    50809.0\n",
              "ORANGE          1258800.0    95.418711    204.987266  ...    29.0    99.0    21323.0\n",
              "TIGO             864032.0    23.109253     63.578086  ...     6.0    20.0     4174.0\n",
              "ZONE1            169721.0     8.170132     41.169511  ...     1.0     3.0     4792.0\n",
              "ZONE2            136824.0     7.553309     33.487234  ...     2.0     5.0     3697.0\n",
              "REGULARITY      2154048.0    28.042505     22.286857  ...    24.0    51.0       62.0\n",
              "FREQ_TOP_PACK   1251454.0     9.272461     12.280443  ...     5.0    12.0      713.0\n",
              "CHURN           2154048.0     0.187547      0.390350  ...     0.0     0.0        1.0\n",
              "\n",
              "[14 rows x 8 columns]"
            ]
          },
          "metadata": {
            "tags": []
          },
          "execution_count": 10
        }
      ]
    },
    {
      "cell_type": "code",
      "metadata": {
        "id": "RsWb-dDg8kF2",
        "colab_type": "code",
        "colab": {}
      },
      "source": [
        "train.drop(columns=['REGION', 'MRG', 'TOP_PACK'], inplace=True) #drop these columns"
      ],
      "execution_count": null,
      "outputs": []
    },
    {
      "cell_type": "code",
      "metadata": {
        "id": "-lkeSWXlx6jR",
        "colab_type": "code",
        "colab": {}
      },
      "source": [
        "test.drop(columns=['REGION', 'MRG', 'TOP_PACK'], inplace=True)"
      ],
      "execution_count": null,
      "outputs": []
    },
    {
      "cell_type": "code",
      "metadata": {
        "id": "vfcZiAzAx86i",
        "colab_type": "code",
        "colab": {}
      },
      "source": [
        "# replace nan values in train with the average\n",
        "\n",
        "train['MONTANT'].fillna((train['MONTANT'].mean()), inplace=True)\n",
        "train['FREQUENCE_RECH'].fillna((train['FREQUENCE_RECH'].mean()), inplace=True)\n",
        "train['REVENUE'].fillna((train['REVENUE'].mean()), inplace=True)\n",
        "train['ARPU_SEGMENT'].fillna((train['ARPU_SEGMENT'].mean()), inplace=True)\n",
        "train['FREQUENCE'].fillna((train['FREQUENCE'].mean()), inplace=True)\n",
        "train['DATA_VOLUME'].fillna((train['DATA_VOLUME'].mean()), inplace=True)\n",
        "train['ON_NET'].fillna((train['ON_NET'].mean()), inplace=True)\n",
        "train['ORANGE'].fillna((train['ORANGE'].mean()), inplace=True)\n",
        "train['TIGO'].fillna((train['TIGO'].mean()), inplace=True)\n",
        "train['ZONE1'].fillna((train['ZONE1'].mean()), inplace=True)\n",
        "train['ZONE2'].fillna((train['ZONE2'].mean()), inplace=True)\n",
        "train['FREQ_TOP_PACK'].fillna((train['FREQ_TOP_PACK'].mean()), inplace=True)"
      ],
      "execution_count": null,
      "outputs": []
    },
    {
      "cell_type": "code",
      "metadata": {
        "id": "6RIgU3xzyAN8",
        "colab_type": "code",
        "colab": {}
      },
      "source": [
        "# replace nan values in train with the average\n",
        "\n",
        "test['MONTANT'].fillna((test['MONTANT'].mean()), inplace=True)\n",
        "test['FREQUENCE_RECH'].fillna((test['FREQUENCE_RECH'].mean()), inplace=True)\n",
        "test['REVENUE'].fillna((test['REVENUE'].mean()), inplace=True)\n",
        "test['ARPU_SEGMENT'].fillna((test['ARPU_SEGMENT'].mean()), inplace=True)\n",
        "test['FREQUENCE'].fillna((test['FREQUENCE'].mean()), inplace=True)\n",
        "test['DATA_VOLUME'].fillna((test['DATA_VOLUME'].mean()), inplace=True)\n",
        "test['ON_NET'].fillna((test['ON_NET'].mean()), inplace=True)\n",
        "test['ORANGE'].fillna((test['ORANGE'].mean()), inplace=True)\n",
        "test['TIGO'].fillna((test['TIGO'].mean()), inplace=True)\n",
        "test['ZONE1'].fillna((test['ZONE1'].mean()), inplace=True)\n",
        "test['ZONE2'].fillna((test['ZONE2'].mean()), inplace=True)\n",
        "test['FREQ_TOP_PACK'].fillna((test['FREQ_TOP_PACK'].mean()), inplace=True)"
      ],
      "execution_count": null,
      "outputs": []
    },
    {
      "cell_type": "code",
      "metadata": {
        "id": "zpeiF_FV8YfH",
        "colab_type": "code",
        "colab": {
          "base_uri": "https://localhost:8080/",
          "height": 289
        },
        "outputId": "4f032616-4784-441e-f950-13a59c8ac919"
      },
      "source": [
        "test.isnull().sum()"
      ],
      "execution_count": null,
      "outputs": [
        {
          "output_type": "execute_result",
          "data": {
            "text/plain": [
              "user_id           0\n",
              "TENURE            0\n",
              "MONTANT           0\n",
              "FREQUENCE_RECH    0\n",
              "REVENUE           0\n",
              "ARPU_SEGMENT      0\n",
              "FREQUENCE         0\n",
              "DATA_VOLUME       0\n",
              "ON_NET            0\n",
              "ORANGE            0\n",
              "TIGO              0\n",
              "ZONE1             0\n",
              "ZONE2             0\n",
              "REGULARITY        0\n",
              "FREQ_TOP_PACK     0\n",
              "dtype: int64"
            ]
          },
          "metadata": {
            "tags": []
          },
          "execution_count": 15
        }
      ]
    },
    {
      "cell_type": "code",
      "metadata": {
        "id": "KmPR1eeS8qNG",
        "colab_type": "code",
        "colab": {
          "base_uri": "https://localhost:8080/",
          "height": 306
        },
        "outputId": "89297033-9ec4-4d7f-ac8d-5c3cc755eb31"
      },
      "source": [
        "train.isnull().sum()"
      ],
      "execution_count": null,
      "outputs": [
        {
          "output_type": "execute_result",
          "data": {
            "text/plain": [
              "user_id           0\n",
              "TENURE            0\n",
              "MONTANT           0\n",
              "FREQUENCE_RECH    0\n",
              "REVENUE           0\n",
              "ARPU_SEGMENT      0\n",
              "FREQUENCE         0\n",
              "DATA_VOLUME       0\n",
              "ON_NET            0\n",
              "ORANGE            0\n",
              "TIGO              0\n",
              "ZONE1             0\n",
              "ZONE2             0\n",
              "REGULARITY        0\n",
              "FREQ_TOP_PACK     0\n",
              "CHURN             0\n",
              "dtype: int64"
            ]
          },
          "metadata": {
            "tags": []
          },
          "execution_count": 16
        }
      ]
    },
    {
      "cell_type": "code",
      "metadata": {
        "id": "9RDUyEWQyEwx",
        "colab_type": "code",
        "colab": {}
      },
      "source": [
        "from sklearn.model_selection import train_test_split,cross_val_score\n",
        "from sklearn.metrics import accuracy_score,confusion_matrix,recall_score,precision_recall_curve, f1_score\n",
        "from sklearn.preprocessing import StandardScaler\n",
        "from sklearn.ensemble import RandomForestClassifier\n",
        "from sklearn.preprocessing import LabelEncoder"
      ],
      "execution_count": null,
      "outputs": []
    },
    {
      "cell_type": "code",
      "metadata": {
        "id": "eyl-5BMsyEz6",
        "colab_type": "code",
        "colab": {
          "base_uri": "https://localhost:8080/",
          "height": 68
        },
        "outputId": "a434cf14-95b7-4fa7-f275-90910e2cc7e3"
      },
      "source": [
        "dropcols = ['user_id', 'CHURN']\n",
        "y = train['CHURN'] # labels\n",
        "x = train.drop(columns=dropcols, axis=1)\n",
        "test = test.drop(columns=['user_id'], axis=1) #will use this for predicting and submitting the resulting\n",
        "print(x.shape)\n",
        "print(y.shape)\n",
        "print(test.shape)"
      ],
      "execution_count": null,
      "outputs": [
        {
          "output_type": "stream",
          "text": [
            "(2154048, 14)\n",
            "(2154048,)\n",
            "(380127, 14)\n"
          ],
          "name": "stdout"
        }
      ]
    },
    {
      "cell_type": "code",
      "metadata": {
        "id": "r5VjqHfQyE3h",
        "colab_type": "code",
        "colab": {
          "base_uri": "https://localhost:8080/",
          "height": 85
        },
        "outputId": "5e536b91-9fee-495d-9df2-fdeda68be6f5"
      },
      "source": [
        "#  split x and y into 80% train, 20% test\n",
        "X_train,X_test,y_train,y_test = train_test_split(x,y,test_size = 0.20,random_state=1) \n",
        "print(X_train.shape)\n",
        "print(y_train.shape)\n",
        " \n",
        "print(X_test.shape)\n",
        "print(y_test.shape)"
      ],
      "execution_count": null,
      "outputs": [
        {
          "output_type": "stream",
          "text": [
            "(1723238, 14)\n",
            "(1723238,)\n",
            "(430810, 14)\n",
            "(430810,)\n"
          ],
          "name": "stdout"
        }
      ]
    },
    {
      "cell_type": "code",
      "metadata": {
        "id": "4ENnSRAeyE7v",
        "colab_type": "code",
        "colab": {}
      },
      "source": [
        "#Standardizing the numeric values using standard scaler\n",
        "\n",
        "num_cols = ['MONTANT', 'FREQUENCE_RECH', 'REVENUE', 'ARPU_SEGMENT', 'FREQUENCE',\n",
        "       'DATA_VOLUME', 'ON_NET', 'ORANGE', 'TIGO', 'ZONE1', 'ZONE2',\n",
        "       'REGULARITY', 'FREQ_TOP_PACK']\n",
        " \n",
        "scaler = StandardScaler()\n",
        " \n",
        "X_train[num_cols] = scaler.fit_transform(X_train[num_cols]) #normalize X_train"
      ],
      "execution_count": null,
      "outputs": []
    },
    {
      "cell_type": "code",
      "metadata": {
        "id": "qcqqK55byARf",
        "colab_type": "code",
        "colab": {
          "base_uri": "https://localhost:8080/",
          "height": 309
        },
        "outputId": "fc36bf0d-f2d2-44c7-dbe0-22f9c09f8ed7"
      },
      "source": [
        "X_test[num_cols] = scaler.transform(X_test[num_cols]) #normalize X_test\n",
        "X_test.head()"
      ],
      "execution_count": null,
      "outputs": [
        {
          "output_type": "execute_result",
          "data": {
            "text/html": [
              "<div>\n",
              "<style scoped>\n",
              "    .dataframe tbody tr th:only-of-type {\n",
              "        vertical-align: middle;\n",
              "    }\n",
              "\n",
              "    .dataframe tbody tr th {\n",
              "        vertical-align: top;\n",
              "    }\n",
              "\n",
              "    .dataframe thead th {\n",
              "        text-align: right;\n",
              "    }\n",
              "</style>\n",
              "<table border=\"1\" class=\"dataframe\">\n",
              "  <thead>\n",
              "    <tr style=\"text-align: right;\">\n",
              "      <th></th>\n",
              "      <th>TENURE</th>\n",
              "      <th>MONTANT</th>\n",
              "      <th>FREQUENCE_RECH</th>\n",
              "      <th>REVENUE</th>\n",
              "      <th>ARPU_SEGMENT</th>\n",
              "      <th>FREQUENCE</th>\n",
              "      <th>DATA_VOLUME</th>\n",
              "      <th>ON_NET</th>\n",
              "      <th>ORANGE</th>\n",
              "      <th>TIGO</th>\n",
              "      <th>ZONE1</th>\n",
              "      <th>ZONE2</th>\n",
              "      <th>REGULARITY</th>\n",
              "      <th>FREQ_TOP_PACK</th>\n",
              "    </tr>\n",
              "  </thead>\n",
              "  <tbody>\n",
              "    <tr>\n",
              "      <th>417912</th>\n",
              "      <td>K &gt; 24 month</td>\n",
              "      <td>5.502588</td>\n",
              "      <td>0.885416</td>\n",
              "      <td>5.575112</td>\n",
              "      <td>5.574948</td>\n",
              "      <td>1.004481</td>\n",
              "      <td>-0.163604</td>\n",
              "      <td>1.496644</td>\n",
              "      <td>6.809629</td>\n",
              "      <td>3.852092</td>\n",
              "      <td>0.00023</td>\n",
              "      <td>-0.000108</td>\n",
              "      <td>1.523363</td>\n",
              "      <td>2.538585</td>\n",
              "    </tr>\n",
              "    <tr>\n",
              "      <th>1380278</th>\n",
              "      <td>K &gt; 24 month</td>\n",
              "      <td>-0.355472</td>\n",
              "      <td>-0.423838</td>\n",
              "      <td>-0.344255</td>\n",
              "      <td>-0.344088</td>\n",
              "      <td>-0.583376</td>\n",
              "      <td>-0.000323</td>\n",
              "      <td>-0.355039</td>\n",
              "      <td>-0.034757</td>\n",
              "      <td>-0.400792</td>\n",
              "      <td>0.00023</td>\n",
              "      <td>-0.000108</td>\n",
              "      <td>-0.226325</td>\n",
              "      <td>-0.243389</td>\n",
              "    </tr>\n",
              "    <tr>\n",
              "      <th>657158</th>\n",
              "      <td>K &gt; 24 month</td>\n",
              "      <td>-0.000121</td>\n",
              "      <td>-0.000283</td>\n",
              "      <td>-0.000226</td>\n",
              "      <td>-0.000226</td>\n",
              "      <td>-0.000203</td>\n",
              "      <td>-0.000323</td>\n",
              "      <td>-0.000328</td>\n",
              "      <td>-0.000225</td>\n",
              "      <td>-0.000144</td>\n",
              "      <td>0.00023</td>\n",
              "      <td>-0.000108</td>\n",
              "      <td>-0.181461</td>\n",
              "      <td>-0.000238</td>\n",
              "    </tr>\n",
              "    <tr>\n",
              "      <th>228934</th>\n",
              "      <td>I 18-21 month</td>\n",
              "      <td>-0.000121</td>\n",
              "      <td>-0.000283</td>\n",
              "      <td>-0.000226</td>\n",
              "      <td>-0.000226</td>\n",
              "      <td>-0.000203</td>\n",
              "      <td>-0.000323</td>\n",
              "      <td>-0.000328</td>\n",
              "      <td>-0.000225</td>\n",
              "      <td>-0.000144</td>\n",
              "      <td>0.00023</td>\n",
              "      <td>-0.000108</td>\n",
              "      <td>-1.213328</td>\n",
              "      <td>-0.000238</td>\n",
              "    </tr>\n",
              "    <tr>\n",
              "      <th>2020145</th>\n",
              "      <td>K &gt; 24 month</td>\n",
              "      <td>2.197593</td>\n",
              "      <td>0.417826</td>\n",
              "      <td>2.153657</td>\n",
              "      <td>2.153487</td>\n",
              "      <td>0.252338</td>\n",
              "      <td>-0.000323</td>\n",
              "      <td>0.118980</td>\n",
              "      <td>0.634387</td>\n",
              "      <td>-0.500274</td>\n",
              "      <td>0.00023</td>\n",
              "      <td>-0.000108</td>\n",
              "      <td>1.119589</td>\n",
              "      <td>0.826601</td>\n",
              "    </tr>\n",
              "  </tbody>\n",
              "</table>\n",
              "</div>"
            ],
            "text/plain": [
              "                TENURE   MONTANT  ...  REGULARITY  FREQ_TOP_PACK\n",
              "417912    K > 24 month  5.502588  ...    1.523363       2.538585\n",
              "1380278   K > 24 month -0.355472  ...   -0.226325      -0.243389\n",
              "657158    K > 24 month -0.000121  ...   -0.181461      -0.000238\n",
              "228934   I 18-21 month -0.000121  ...   -1.213328      -0.000238\n",
              "2020145   K > 24 month  2.197593  ...    1.119589       0.826601\n",
              "\n",
              "[5 rows x 14 columns]"
            ]
          },
          "metadata": {
            "tags": []
          },
          "execution_count": 21
        }
      ]
    },
    {
      "cell_type": "code",
      "metadata": {
        "id": "WTPx6b_syXz2",
        "colab_type": "code",
        "colab": {
          "base_uri": "https://localhost:8080/",
          "height": 289
        },
        "outputId": "4cbb9493-fc9b-415e-bf9c-1fe1fc680a64"
      },
      "source": [
        "test[num_cols] = scaler.transform(test[num_cols]) #normalize test set\n",
        "test.head()"
      ],
      "execution_count": null,
      "outputs": [
        {
          "output_type": "execute_result",
          "data": {
            "text/html": [
              "<div>\n",
              "<style scoped>\n",
              "    .dataframe tbody tr th:only-of-type {\n",
              "        vertical-align: middle;\n",
              "    }\n",
              "\n",
              "    .dataframe tbody tr th {\n",
              "        vertical-align: top;\n",
              "    }\n",
              "\n",
              "    .dataframe thead th {\n",
              "        text-align: right;\n",
              "    }\n",
              "</style>\n",
              "<table border=\"1\" class=\"dataframe\">\n",
              "  <thead>\n",
              "    <tr style=\"text-align: right;\">\n",
              "      <th></th>\n",
              "      <th>TENURE</th>\n",
              "      <th>MONTANT</th>\n",
              "      <th>FREQUENCE_RECH</th>\n",
              "      <th>REVENUE</th>\n",
              "      <th>ARPU_SEGMENT</th>\n",
              "      <th>FREQUENCE</th>\n",
              "      <th>DATA_VOLUME</th>\n",
              "      <th>ON_NET</th>\n",
              "      <th>ORANGE</th>\n",
              "      <th>TIGO</th>\n",
              "      <th>ZONE1</th>\n",
              "      <th>ZONE2</th>\n",
              "      <th>REGULARITY</th>\n",
              "      <th>FREQ_TOP_PACK</th>\n",
              "    </tr>\n",
              "  </thead>\n",
              "  <tbody>\n",
              "    <tr>\n",
              "      <th>0</th>\n",
              "      <td>K &gt; 24 month</td>\n",
              "      <td>-0.093171</td>\n",
              "      <td>-0.610874</td>\n",
              "      <td>-0.087620</td>\n",
              "      <td>-0.087452</td>\n",
              "      <td>-0.750519</td>\n",
              "      <td>-0.002462</td>\n",
              "      <td>0.143326</td>\n",
              "      <td>-0.538208</td>\n",
              "      <td>-0.450533</td>\n",
              "      <td>-0.00027</td>\n",
              "      <td>0.011673</td>\n",
              "      <td>0.626087</td>\n",
              "      <td>-0.457388</td>\n",
              "    </tr>\n",
              "    <tr>\n",
              "      <th>1</th>\n",
              "      <td>I 18-21 month</td>\n",
              "      <td>-0.915048</td>\n",
              "      <td>-0.891428</td>\n",
              "      <td>-0.887294</td>\n",
              "      <td>-0.887128</td>\n",
              "      <td>-0.917661</td>\n",
              "      <td>-0.312438</td>\n",
              "      <td>0.001272</td>\n",
              "      <td>-0.608309</td>\n",
              "      <td>-0.001566</td>\n",
              "      <td>-0.00027</td>\n",
              "      <td>0.011673</td>\n",
              "      <td>0.581223</td>\n",
              "      <td>-0.885384</td>\n",
              "    </tr>\n",
              "    <tr>\n",
              "      <th>2</th>\n",
              "      <td>K &gt; 24 month</td>\n",
              "      <td>-0.390446</td>\n",
              "      <td>1.259489</td>\n",
              "      <td>-0.361364</td>\n",
              "      <td>-0.361539</td>\n",
              "      <td>1.004481</td>\n",
              "      <td>0.397362</td>\n",
              "      <td>-0.398002</td>\n",
              "      <td>-0.595563</td>\n",
              "      <td>-0.450533</td>\n",
              "      <td>-0.00027</td>\n",
              "      <td>0.011673</td>\n",
              "      <td>1.299044</td>\n",
              "      <td>1.361596</td>\n",
              "    </tr>\n",
              "    <tr>\n",
              "      <th>3</th>\n",
              "      <td>K &gt; 24 month</td>\n",
              "      <td>-0.001373</td>\n",
              "      <td>-0.001150</td>\n",
              "      <td>-0.002130</td>\n",
              "      <td>-0.002130</td>\n",
              "      <td>-0.001889</td>\n",
              "      <td>-0.002462</td>\n",
              "      <td>0.001272</td>\n",
              "      <td>-0.001663</td>\n",
              "      <td>-0.001566</td>\n",
              "      <td>-0.00027</td>\n",
              "      <td>0.011673</td>\n",
              "      <td>-0.854418</td>\n",
              "      <td>-0.001402</td>\n",
              "    </tr>\n",
              "    <tr>\n",
              "      <th>4</th>\n",
              "      <td>K &gt; 24 month</td>\n",
              "      <td>-0.001373</td>\n",
              "      <td>-0.001150</td>\n",
              "      <td>-0.002130</td>\n",
              "      <td>-0.002130</td>\n",
              "      <td>-0.001889</td>\n",
              "      <td>-0.002462</td>\n",
              "      <td>0.001272</td>\n",
              "      <td>-0.001663</td>\n",
              "      <td>-0.001566</td>\n",
              "      <td>-0.00027</td>\n",
              "      <td>0.011673</td>\n",
              "      <td>-0.809554</td>\n",
              "      <td>-0.001402</td>\n",
              "    </tr>\n",
              "  </tbody>\n",
              "</table>\n",
              "</div>"
            ],
            "text/plain": [
              "          TENURE   MONTANT  FREQUENCE_RECH  ...     ZONE2  REGULARITY  FREQ_TOP_PACK\n",
              "0   K > 24 month -0.093171       -0.610874  ...  0.011673    0.626087      -0.457388\n",
              "1  I 18-21 month -0.915048       -0.891428  ...  0.011673    0.581223      -0.885384\n",
              "2   K > 24 month -0.390446        1.259489  ...  0.011673    1.299044       1.361596\n",
              "3   K > 24 month -0.001373       -0.001150  ...  0.011673   -0.854418      -0.001402\n",
              "4   K > 24 month -0.001373       -0.001150  ...  0.011673   -0.809554      -0.001402\n",
              "\n",
              "[5 rows x 14 columns]"
            ]
          },
          "metadata": {
            "tags": []
          },
          "execution_count": 22
        }
      ]
    },
    {
      "cell_type": "code",
      "metadata": {
        "id": "TlSPfLNgyX7w",
        "colab_type": "code",
        "colab": {}
      },
      "source": [
        "###### Encode tenure column ############\n",
        "encoder = LabelEncoder()\n",
        "X_train[\"TENURE\"] = encoder.fit_transform(X_train[\"TENURE\"])\n",
        "X_test[\"TENURE\"] = encoder.fit_transform(X_test[\"TENURE\"])\n",
        "test['TENURE'] = encoder.fit_transform(test[\"TENURE\"])"
      ],
      "execution_count": null,
      "outputs": []
    },
    {
      "cell_type": "code",
      "metadata": {
        "id": "XKHUHaBqyX2x",
        "colab_type": "code",
        "colab": {
          "base_uri": "https://localhost:8080/",
          "height": 34
        },
        "outputId": "d7f74421-8262-4596-a2b6-87558c8d2a05"
      },
      "source": [
        "import tensorflow as tf\n",
        "from keras.layers import *\n",
        "from keras.models import Model\n",
        "from keras.initializers import glorot_normal\n",
        "\n",
        "def get_model():\n",
        "\n",
        "  inputs = Input((X_train.shape[1],), dtype=tf.float32) # inputs of shape (None, 14)\n",
        "\n",
        "  #Stack 4 dense layers each with 128 neurons/units\n",
        "  x = Dense(units= 128, kernel_initializer = 'uniform',  activation='relu')(inputs)\n",
        "  x = Dense(units= 128, kernel_initializer = 'uniform', activation='relu')(x)\n",
        "  x = Dense(units= 128, kernel_initializer = 'uniform', activation='relu')(x)\n",
        "  x = Dense(units= 128, kernel_initializer = 'uniform', activation='relu')(x)\n",
        "  \n",
        "  # Add skip connections to speed up the training process\n",
        "  ### Begin of skip connections ###\n",
        "  x = add([x , Dense(128, kernel_initializer = 'uniform', activation='relu')(x)])\n",
        "  x = add([x , Dense(128, kernel_initializer = 'uniform', activation='relu')(x)])\n",
        "\n",
        "   ### End of skip connections ###\n",
        "\n",
        "  #add a dropout layer with 0.15 dropout rate\n",
        "  x = Dropout(0.15)(x)\n",
        "\n",
        "  outputs = Dense(1,  kernel_initializer=glorot_normal(seed=1),\n",
        "                  bias_initializer=glorot_normal(seed=1),\n",
        "                  activation='sigmoid')(x)                \n",
        "  model = Model(inputs =inputs, outputs=outputs)\n",
        "  model.compile(loss=\"binary_crossentropy\", optimizer='adam', metrics=['accuracy'])\n",
        "  return model"
      ],
      "execution_count": null,
      "outputs": [
        {
          "output_type": "stream",
          "text": [
            "Using TensorFlow backend.\n"
          ],
          "name": "stderr"
        }
      ]
    },
    {
      "cell_type": "code",
      "metadata": {
        "id": "_Y7e6395yuhW",
        "colab_type": "code",
        "colab": {
          "base_uri": "https://localhost:8080/",
          "height": 561
        },
        "outputId": "5cd118c0-49b6-4233-c8b1-cbcd120dfb62"
      },
      "source": [
        "model = get_model() # load model\n",
        "model.summary() # view summary"
      ],
      "execution_count": null,
      "outputs": [
        {
          "output_type": "stream",
          "text": [
            "Model: \"model_1\"\n",
            "__________________________________________________________________________________________________\n",
            "Layer (type)                    Output Shape         Param #     Connected to                     \n",
            "==================================================================================================\n",
            "input_1 (InputLayer)            (None, 14)           0                                            \n",
            "__________________________________________________________________________________________________\n",
            "dense_1 (Dense)                 (None, 128)          1920        input_1[0][0]                    \n",
            "__________________________________________________________________________________________________\n",
            "dense_2 (Dense)                 (None, 128)          16512       dense_1[0][0]                    \n",
            "__________________________________________________________________________________________________\n",
            "dense_3 (Dense)                 (None, 128)          16512       dense_2[0][0]                    \n",
            "__________________________________________________________________________________________________\n",
            "dense_4 (Dense)                 (None, 128)          16512       dense_3[0][0]                    \n",
            "__________________________________________________________________________________________________\n",
            "dense_5 (Dense)                 (None, 128)          16512       dense_4[0][0]                    \n",
            "__________________________________________________________________________________________________\n",
            "add_1 (Add)                     (None, 128)          0           dense_4[0][0]                    \n",
            "                                                                 dense_5[0][0]                    \n",
            "__________________________________________________________________________________________________\n",
            "dense_6 (Dense)                 (None, 128)          16512       add_1[0][0]                      \n",
            "__________________________________________________________________________________________________\n",
            "add_2 (Add)                     (None, 128)          0           add_1[0][0]                      \n",
            "                                                                 dense_6[0][0]                    \n",
            "__________________________________________________________________________________________________\n",
            "dropout_1 (Dropout)             (None, 128)          0           add_2[0][0]                      \n",
            "__________________________________________________________________________________________________\n",
            "dense_7 (Dense)                 (None, 1)            129         dropout_1[0][0]                  \n",
            "==================================================================================================\n",
            "Total params: 84,609\n",
            "Trainable params: 84,609\n",
            "Non-trainable params: 0\n",
            "__________________________________________________________________________________________________\n"
          ],
          "name": "stdout"
        }
      ]
    },
    {
      "cell_type": "code",
      "metadata": {
        "id": "wGcrHoTSyuks",
        "colab_type": "code",
        "colab": {
          "base_uri": "https://localhost:8080/",
          "height": 544
        },
        "outputId": "c51673a0-58f3-4695-aab3-19617fa2b044"
      },
      "source": [
        "from keras.callbacks import EarlyStopping\n",
        "  \n",
        "es = EarlyStopping(monitor =\"val_loss\", mode=\"min\", verbose= 1, patience = 3) #instantiate an earlystopping mechanism\n",
        " \n",
        "model.fit(X_train,\n",
        "          y_train, \n",
        "          validation_data=(X_test, y_test) ,\n",
        "          epochs=50, \n",
        "          callbacks=[es] ,batch_size=1024, verbose=2)"
      ],
      "execution_count": null,
      "outputs": [
        {
          "output_type": "stream",
          "text": [
            "Train on 1723238 samples, validate on 430810 samples\n",
            "Epoch 1/50\n",
            " - 9s - loss: 0.3071 - accuracy: 0.8594 - val_loss: 0.2992 - val_accuracy: 0.8641\n",
            "Epoch 2/50\n",
            " - 8s - loss: 0.2995 - accuracy: 0.8641 - val_loss: 0.2981 - val_accuracy: 0.8644\n",
            "Epoch 3/50\n",
            " - 8s - loss: 0.2984 - accuracy: 0.8644 - val_loss: 0.2968 - val_accuracy: 0.8642\n",
            "Epoch 4/50\n",
            " - 8s - loss: 0.2978 - accuracy: 0.8646 - val_loss: 0.2978 - val_accuracy: 0.8632\n",
            "Epoch 5/50\n",
            " - 8s - loss: 0.2973 - accuracy: 0.8647 - val_loss: 0.2956 - val_accuracy: 0.8644\n",
            "Epoch 6/50\n",
            " - 8s - loss: 0.2968 - accuracy: 0.8648 - val_loss: 0.2968 - val_accuracy: 0.8646\n",
            "Epoch 7/50\n",
            " - 8s - loss: 0.2966 - accuracy: 0.8648 - val_loss: 0.2954 - val_accuracy: 0.8643\n",
            "Epoch 8/50\n",
            " - 8s - loss: 0.2964 - accuracy: 0.8649 - val_loss: 0.2961 - val_accuracy: 0.8646\n",
            "Epoch 9/50\n",
            " - 8s - loss: 0.2961 - accuracy: 0.8649 - val_loss: 0.2959 - val_accuracy: 0.8643\n",
            "Epoch 10/50\n",
            " - 8s - loss: 0.2961 - accuracy: 0.8649 - val_loss: 0.2953 - val_accuracy: 0.8641\n",
            "Epoch 11/50\n",
            " - 8s - loss: 0.2961 - accuracy: 0.8649 - val_loss: 0.2950 - val_accuracy: 0.8645\n",
            "Epoch 12/50\n",
            " - 8s - loss: 0.2959 - accuracy: 0.8649 - val_loss: 0.2968 - val_accuracy: 0.8644\n",
            "Epoch 13/50\n",
            " - 8s - loss: 0.2959 - accuracy: 0.8649 - val_loss: 0.2952 - val_accuracy: 0.8646\n",
            "Epoch 14/50\n",
            " - 8s - loss: 0.2957 - accuracy: 0.8650 - val_loss: 0.2957 - val_accuracy: 0.8644\n",
            "Epoch 00014: early stopping\n"
          ],
          "name": "stdout"
        },
        {
          "output_type": "execute_result",
          "data": {
            "text/plain": [
              "<keras.callbacks.callbacks.History at 0x7f8b90281f28>"
            ]
          },
          "metadata": {
            "tags": []
          },
          "execution_count": 26
        }
      ]
    },
    {
      "cell_type": "code",
      "metadata": {
        "id": "l-ePvKPtzF8P",
        "colab_type": "code",
        "colab": {}
      },
      "source": [
        "y_test_predicted = model.predict(test, batch_size = 1024) "
      ],
      "execution_count": null,
      "outputs": []
    },
    {
      "cell_type": "code",
      "metadata": {
        "id": "Afq8JVt3zF_S",
        "colab_type": "code",
        "colab": {}
      },
      "source": [
        "submission[\"CHURN\"] = y_test_predicted\n",
        " \n",
        "submission.to_csv('submission.csv', index=False)"
      ],
      "execution_count": null,
      "outputs": []
    }
  ]
}